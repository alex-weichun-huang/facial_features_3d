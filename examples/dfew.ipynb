{
 "cells": [
  {
   "cell_type": "markdown",
   "metadata": {},
   "source": [
    "# Instructions\n",
    "\n",
    "1. Download DFEW clips and store then in one directory\n",
    "2. Download DFEW annotaion\n",
    "3. Generate clip info file (dfew.csv)"
   ]
  },
  {
   "cell_type": "code",
   "execution_count": 1,
   "metadata": {},
   "outputs": [],
   "source": [
    "import os\n",
    "import numpy as np\n",
    "import pandas as pd\n",
    "from common  import registered_emotions\n",
    "\n",
    "# read in xlsx file\n",
    "annotation = pd.read_excel('/media/external/ahuang/face_in_the_wild/dfew_annotation/annotation.xlsx')\n",
    "dfew_to_registered = {\n",
    "    0: \"Ambiguous\", \n",
    "    1: \"Happy\",\n",
    "    2: \"Sad\",\n",
    "    3: \"Neutral\",\n",
    "    4: \"Angry\",\n",
    "    5: \"Surprise\",\n",
    "    6: \"Disgust\",\n",
    "    7: \"Fear\", \n",
    "}\n",
    "\n",
    "# Get the video to label mapping. Note that this \"label\" is the registered emotion label under common.py\n",
    "video_emotion_dict = {}\n",
    "for index, row in annotation.iterrows():\n",
    "    video = row['order']\n",
    "    dfew_label = row['label']\n",
    "    video_emotion_dict[video] = registered_emotions[dfew_to_registered[dfew_label]]\n",
    "    \n",
    "\n",
    "root_dir = \"/media/external/ahuang/face_in_the_wild/dfew\"\n",
    "assert len(os.listdir(root_dir)) == 15906, \"Number of videos in root directory does not match number of videos in annotation\"\n",
    "with open(\"dfew.csv\", \"w\") as f:\n",
    "    for video in os.listdir(root_dir):\n",
    "        video_path = os.path.join(root_dir, video)\n",
    "        if os.path.isdir(video_path):\n",
    "            label = video_emotion_dict[int(video)]\n",
    "            f.write(f\"{video_path},{label}\\n\")"
   ]
  },
  {
   "cell_type": "markdown",
   "metadata": {},
   "source": [
    "4. Run feature extracion with the clip_info \n",
    "\n",
    "```sh\n",
    "python run_extraction_video.py --feature_type \"vals\" --clip_info \"./examples/dfew.csv\" --output_folder \"/media/external/ahuang/face_in_the_wild/dfew_feats\" --model_name \"EMOCA_v2_lr_mse_20\"\n",
    "```"
   ]
  }
 ],
 "metadata": {
  "kernelspec": {
   "display_name": "3d_face_feats",
   "language": "python",
   "name": "python3"
  },
  "language_info": {
   "codemirror_mode": {
    "name": "ipython",
    "version": 3
   },
   "file_extension": ".py",
   "mimetype": "text/x-python",
   "name": "python",
   "nbconvert_exporter": "python",
   "pygments_lexer": "ipython3",
   "version": "3.8.18"
  }
 },
 "nbformat": 4,
 "nbformat_minor": 2
}
