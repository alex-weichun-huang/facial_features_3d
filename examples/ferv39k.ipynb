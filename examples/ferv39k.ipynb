{
 "cells": [
  {
   "cell_type": "markdown",
   "metadata": {},
   "source": [
    "# Instructions\n",
    "\n",
    "1. Download FERV39k clips \n",
    "2. Generate clip info file (ferv39k.csv)"
   ]
  },
  {
   "cell_type": "code",
   "execution_count": 15,
   "metadata": {},
   "outputs": [],
   "source": [
    "import os\n",
    "from common import registered_emotions\n",
    "\n",
    "root_dir = \"/media/external/ahuang/face_in_the_wild/FERV39k\""
   ]
  },
  {
   "cell_type": "code",
   "execution_count": 16,
   "metadata": {},
   "outputs": [],
   "source": [
    "with open(\"ferv39k.csv\", \"w\") as f:\n",
    "    for scene in os.listdir(root_dir):\n",
    "        for emotion in os.listdir(os.path.join(root_dir, scene)):\n",
    "            for video in os.listdir(os.path.join(root_dir, scene, emotion)):\n",
    "                video_path = os.path.join(root_dir, scene, emotion, video)\n",
    "                f.write(f\"{video_path},{registered_emotions[emotion]}\\n\")"
   ]
  },
  {
   "cell_type": "markdown",
   "metadata": {},
   "source": [
    "3. Run feature extracion with the clip_info \n",
    "\n",
    "```sh\n",
    "python run_extraction_video.py --feature_type \"vals\" --clip_info \"./examples/ferv39k.csv\" --output_folder \"/media/external/ahuang/face_in_the_wild/ferv39k_feats\" --model_name \"EMOCA_v2_lr_mse_20\"\n",
    "```"
   ]
  }
 ],
 "metadata": {
  "kernelspec": {
   "display_name": "3d_face_feats",
   "language": "python",
   "name": "python3"
  },
  "language_info": {
   "codemirror_mode": {
    "name": "ipython",
    "version": 3
   },
   "file_extension": ".py",
   "mimetype": "text/x-python",
   "name": "python",
   "nbconvert_exporter": "python",
   "pygments_lexer": "ipython3",
   "version": "3.8.18"
  }
 },
 "nbformat": 4,
 "nbformat_minor": 2
}
