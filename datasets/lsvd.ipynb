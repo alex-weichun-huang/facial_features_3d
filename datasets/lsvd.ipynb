{
 "cells": [
  {
   "cell_type": "markdown",
   "metadata": {},
   "source": [
    "# Instructions\n",
    "\n",
    "<a href=\"https://github.com/PeiranLi0930/L-SVD\"> L-SVD Homepage </a>\n",
    "\n",
    "1. Download L-SVD clips  \n",
    "2. Generate clip info file (ferv39k.csv)"
   ]
  },
  {
   "cell_type": "code",
   "execution_count": 1,
   "metadata": {},
   "outputs": [],
   "source": [
    "import os\n",
    "from common import registered_emotions\n",
    "\n",
    "root_dir = \"/media/external/ahuang/face_in_the_wild/lsvd\"\n",
    "lsvd_to_registered = {\n",
    "    \"Angry\": \"Angry\",\n",
    "    \"Disgust\": \"Disgust\",\n",
    "    \"Enjoyment\": \"Happy\",\n",
    "    \"Fear\": \"Fear\",\n",
    "    \"Neutral\": \"Neutral\",\n",
    "    \"Sadness\": \"Sad\",\n",
    "    \"Contempt\": \"Contempt\",\n",
    "    \"Surprise\": \"Surprise\"\n",
    "}"
   ]
  },
  {
   "cell_type": "code",
   "execution_count": 2,
   "metadata": {},
   "outputs": [],
   "source": [
    "with open(\"lsvd.csv\", \"w\") as f:\n",
    "    for emotion in os.listdir(root_dir):\n",
    "        for video in os.listdir(os.path.join(root_dir, emotion)):\n",
    "            video_path = os.path.join(root_dir, emotion, video)\n",
    "            f.write(f\"{video_path},{registered_emotions[lsvd_to_registered[emotion]]}\\n\")"
   ]
  }
 ],
 "metadata": {
  "kernelspec": {
   "display_name": "3d_face_feats",
   "language": "python",
   "name": "python3"
  },
  "language_info": {
   "codemirror_mode": {
    "name": "ipython",
    "version": 3
   },
   "file_extension": ".py",
   "mimetype": "text/x-python",
   "name": "python",
   "nbconvert_exporter": "python",
   "pygments_lexer": "ipython3",
   "version": "3.8.18"
  }
 },
 "nbformat": 4,
 "nbformat_minor": 2
}
