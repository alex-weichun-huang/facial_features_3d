{
 "cells": [
  {
   "cell_type": "markdown",
   "metadata": {},
   "source": [
    "# Instructions\n",
    "\n",
    "<a href=\"https://github.com/wangyanckxx/FERV39k\"> FERV39k Homepage </a>\n",
    "\n",
    "1. Download FERV39k clips \n",
    "2. Generate clip info file (ferv39k.csv)"
   ]
  },
  {
   "cell_type": "code",
   "execution_count": 1,
   "metadata": {},
   "outputs": [],
   "source": [
    "import os\n",
    "from common import registered_emotions\n",
    "\n",
    "root_dir = \"/data/alex/fitw/ferv39k_vids\""
   ]
  },
  {
   "cell_type": "code",
   "execution_count": 2,
   "metadata": {},
   "outputs": [],
   "source": [
    "with open(\"ferv39k.csv\", \"w\") as f:\n",
    "    for scene in os.listdir(root_dir):\n",
    "        for emotion in os.listdir(os.path.join(root_dir, scene)):\n",
    "            for video in os.listdir(os.path.join(root_dir, scene, emotion)):\n",
    "                video_path = os.path.join(root_dir, scene, emotion, video)\n",
    "                f.write(f\"{video_path},{registered_emotions[emotion]}\\n\")"
   ]
  }
 ],
 "metadata": {
  "kernelspec": {
   "display_name": "clustering",
   "language": "python",
   "name": "python3"
  },
  "language_info": {
   "codemirror_mode": {
    "name": "ipython",
    "version": 3
   },
   "file_extension": ".py",
   "mimetype": "text/x-python",
   "name": "python",
   "nbconvert_exporter": "python",
   "pygments_lexer": "ipython3",
   "version": "3.9.19"
  }
 },
 "nbformat": 4,
 "nbformat_minor": 2
}
